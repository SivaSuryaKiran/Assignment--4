{
 "cells": [
  {
   "cell_type": "raw",
   "id": "a189e1d1",
   "metadata": {},
   "source": [
    "1.A)\n",
    "\n",
    "[] is a empty list."
   ]
  },
  {
   "cell_type": "raw",
   "id": "d12c55f7",
   "metadata": {},
   "source": [
    "2.A)\n",
    "\n",
    "spam[3]='hello'"
   ]
  },
  {
   "cell_type": "raw",
   "id": "dbf0686b",
   "metadata": {},
   "source": [
    "3.A)\n",
    "\n",
    "spam=[2, 4, 6, 8, 10,['a','b','c','d']]\n",
    "spam[int(int('3'*2)/11)]\n",
    "\n",
    "Its value is 8."
   ]
  },
  {
   "cell_type": "raw",
   "id": "88ea700d",
   "metadata": {},
   "source": [
    "4.A)\n",
    "\n",
    "spam[-1]\n",
    "['a', 'b', 'c', 'd']"
   ]
  },
  {
   "cell_type": "raw",
   "id": "f615820c",
   "metadata": {},
   "source": [
    "5.A)\n",
    "\n",
    "spam[:2]\n",
    "answer is [2, 4]"
   ]
  },
  {
   "cell_type": "raw",
   "id": "992dc599",
   "metadata": {},
   "source": [
    "6.A)\n",
    "bacon=[3.14,'cat',11,'cat',True]\n",
    " bacon.index('cat')\n",
    "the answer is  1\n"
   ]
  },
  {
   "cell_type": "raw",
   "id": "adc20523",
   "metadata": {},
   "source": [
    "7.A)\n",
    "\n",
    "bacon.append(99)\n",
    "[3.14, 'cat', 11, 'cat', True, 99]"
   ]
  },
  {
   "cell_type": "raw",
   "id": "3bb06ae3",
   "metadata": {},
   "source": [
    "8.A)\n",
    "bacon.remove('cat')\n",
    "[3.14, 11, 'cat', True, 99]\n",
    "It removes the first occurance of the value\n",
    "\n"
   ]
  },
  {
   "cell_type": "raw",
   "id": "b20d44e0",
   "metadata": {},
   "source": [
    "9.A)\n",
    "\n",
    "+ is list concatenation operator.\n",
    "* is list replication operator.\n"
   ]
  },
  {
   "cell_type": "raw",
   "id": "fc542c25",
   "metadata": {},
   "source": [
    "10.A)\n",
    "\n",
    "append() adds the object at the end of the list.\n",
    "insert() adds the object at the specific given index place.\n"
   ]
  },
  {
   "cell_type": "raw",
   "id": "7e7ebb75",
   "metadata": {},
   "source": [
    "11.A)\n",
    "\n",
    "Two methods for removing objects from the list are\n",
    "pop() and ramove().\n"
   ]
  },
  {
   "cell_type": "raw",
   "id": "54e36650",
   "metadata": {},
   "source": [
    "12.A)\n",
    "\n",
    "String values are immutable whereas list values ar mutable\n",
    "\n"
   ]
  },
  {
   "cell_type": "raw",
   "id": "d0fe181a",
   "metadata": {},
   "source": [
    "13.A)\n",
    "\n",
    "lists are mutable \n",
    "tuples are immutable.\n"
   ]
  },
  {
   "cell_type": "raw",
   "id": "423f166c",
   "metadata": {},
   "source": [
    "14.A)\n",
    "\n",
    "t=(42)\n"
   ]
  },
  {
   "cell_type": "raw",
   "id": "61355f0c",
   "metadata": {},
   "source": [
    "15.A)\n",
    "\n",
    "we can get a list value's tuple form by tuple(list_name)\n",
    "we can get a tuple value's list form by list(tuple_name)"
   ]
  },
  {
   "cell_type": "raw",
   "id": "80c7b0d8",
   "metadata": {},
   "source": [
    "16.A)\n",
    "\n",
    "references\n",
    "\n"
   ]
  },
  {
   "cell_type": "raw",
   "id": "53604fc9",
   "metadata": {},
   "source": [
    "17.A)\n",
    "\n",
    "by using copy.copy(),copied object have changes made to original object.\n",
    "By usig copy.deepcopy(), copied object have no changes   made to the original object.\n",
    "And it works recursively.\n",
    "\n"
   ]
  },
  {
   "cell_type": "code",
   "execution_count": 8,
   "id": "d895786e",
   "metadata": {},
   "outputs": [],
   "source": [
    "bacon=[3.14,'cat',11,'cat',True]"
   ]
  },
  {
   "cell_type": "code",
   "execution_count": 9,
   "id": "53714a23",
   "metadata": {},
   "outputs": [
    {
     "data": {
      "text/plain": [
       "1"
      ]
     },
     "execution_count": 9,
     "metadata": {},
     "output_type": "execute_result"
    }
   ],
   "source": [
    "bacon.index('cat')"
   ]
  },
  {
   "cell_type": "code",
   "execution_count": 10,
   "id": "365670fa",
   "metadata": {},
   "outputs": [],
   "source": [
    "bacon.append(99)"
   ]
  },
  {
   "cell_type": "code",
   "execution_count": 14,
   "id": "3467127f",
   "metadata": {},
   "outputs": [
    {
     "ename": "TypeError",
     "evalue": "list.remove() takes exactly one argument (2 given)",
     "output_type": "error",
     "traceback": [
      "\u001b[1;31m---------------------------------------------------------------------------\u001b[0m",
      "\u001b[1;31mTypeError\u001b[0m                                 Traceback (most recent call last)",
      "Input \u001b[1;32mIn [14]\u001b[0m, in \u001b[0;36m<cell line: 1>\u001b[1;34m()\u001b[0m\n\u001b[1;32m----> 1\u001b[0m \u001b[43mbacon\u001b[49m\u001b[38;5;241;43m.\u001b[39;49m\u001b[43mremove\u001b[49m\u001b[43m(\u001b[49m\u001b[38;5;124;43m'\u001b[39;49m\u001b[38;5;124;43mcat\u001b[39;49m\u001b[38;5;124;43m'\u001b[39;49m\u001b[43m,\u001b[49m\u001b[38;5;124;43m'\u001b[39;49m\u001b[38;5;124;43mcat\u001b[39;49m\u001b[38;5;124;43m'\u001b[39;49m\u001b[43m)\u001b[49m\n",
      "\u001b[1;31mTypeError\u001b[0m: list.remove() takes exactly one argument (2 given)"
     ]
    }
   ],
   "source": [
    "bacon.remove('cat')"
   ]
  },
  {
   "cell_type": "code",
   "execution_count": 13,
   "id": "0d8a9302",
   "metadata": {},
   "outputs": [
    {
     "data": {
      "text/plain": [
       "[3.14, 11, 'cat', True, 99]"
      ]
     },
     "execution_count": 13,
     "metadata": {},
     "output_type": "execute_result"
    }
   ],
   "source": [
    "bacon"
   ]
  },
  {
   "cell_type": "code",
   "execution_count": 15,
   "id": "2fff7a48",
   "metadata": {},
   "outputs": [],
   "source": [
    "s=[1,2,3]"
   ]
  },
  {
   "cell_type": "code",
   "execution_count": 20,
   "id": "7088ec16",
   "metadata": {},
   "outputs": [],
   "source": [
    "a=s*2"
   ]
  },
  {
   "cell_type": "code",
   "execution_count": 21,
   "id": "21967ddc",
   "metadata": {},
   "outputs": [
    {
     "data": {
      "text/plain": [
       "[1, 2, 3, 1, 2, 3]"
      ]
     },
     "execution_count": 21,
     "metadata": {},
     "output_type": "execute_result"
    }
   ],
   "source": [
    "a"
   ]
  },
  {
   "cell_type": "code",
   "execution_count": 22,
   "id": "ecf20a68",
   "metadata": {},
   "outputs": [],
   "source": [
    "a.insert(2,'hi')"
   ]
  },
  {
   "cell_type": "code",
   "execution_count": 24,
   "id": "c5456f11",
   "metadata": {},
   "outputs": [
    {
     "data": {
      "text/plain": [
       "[1, 2, 'hi', 3, 1, 2, 3]"
      ]
     },
     "execution_count": 24,
     "metadata": {},
     "output_type": "execute_result"
    }
   ],
   "source": [
    "a"
   ]
  },
  {
   "cell_type": "code",
   "execution_count": 26,
   "id": "1c4d09f0",
   "metadata": {},
   "outputs": [
    {
     "data": {
      "text/plain": [
       "'hi'"
      ]
     },
     "execution_count": 26,
     "metadata": {},
     "output_type": "execute_result"
    }
   ],
   "source": [
    "a.pop(2)"
   ]
  },
  {
   "cell_type": "code",
   "execution_count": 28,
   "id": "7bdfda0b",
   "metadata": {},
   "outputs": [],
   "source": [
    "a.remove(3)"
   ]
  },
  {
   "cell_type": "code",
   "execution_count": 29,
   "id": "d72bed7a",
   "metadata": {},
   "outputs": [],
   "source": [
    "s='123'"
   ]
  },
  {
   "cell_type": "code",
   "execution_count": 30,
   "id": "10b61885",
   "metadata": {},
   "outputs": [
    {
     "data": {
      "text/plain": [
       "str"
      ]
     },
     "execution_count": 30,
     "metadata": {},
     "output_type": "execute_result"
    }
   ],
   "source": [
    "type(s)"
   ]
  },
  {
   "cell_type": "code",
   "execution_count": 38,
   "id": "4fac77f8",
   "metadata": {},
   "outputs": [],
   "source": [
    "t=(1,23)"
   ]
  },
  {
   "cell_type": "code",
   "execution_count": 39,
   "id": "a0513eb6",
   "metadata": {},
   "outputs": [
    {
     "data": {
      "text/plain": [
       "(1, 23)"
      ]
     },
     "execution_count": 39,
     "metadata": {},
     "output_type": "execute_result"
    }
   ],
   "source": [
    "t"
   ]
  },
  {
   "cell_type": "code",
   "execution_count": 40,
   "id": "bf91c252",
   "metadata": {},
   "outputs": [
    {
     "data": {
      "text/plain": [
       "('1', '2', '3')"
      ]
     },
     "execution_count": 40,
     "metadata": {},
     "output_type": "execute_result"
    }
   ],
   "source": [
    "tuple(s)"
   ]
  },
  {
   "cell_type": "code",
   "execution_count": 41,
   "id": "d3655c11",
   "metadata": {},
   "outputs": [
    {
     "data": {
      "text/plain": [
       "[1, 23]"
      ]
     },
     "execution_count": 41,
     "metadata": {},
     "output_type": "execute_result"
    }
   ],
   "source": [
    "list(t)"
   ]
  },
  {
   "cell_type": "code",
   "execution_count": 42,
   "id": "8a5c207e",
   "metadata": {},
   "outputs": [],
   "source": [
    "# importing copy module\n",
    "import copy\n",
    "\n",
    "# initializing list 1\n",
    "li1 = [1, 2, [3,5], 4]\n",
    "\n",
    "\n",
    "# using copy for shallow copy\n",
    "li2 = copy.copy(li1)\n",
    "\n",
    "# using deepcopy for deepcopy\n",
    "li3 = copy.deepcopy(li1)\n"
   ]
  },
  {
   "cell_type": "code",
   "execution_count": 43,
   "id": "ec01251b",
   "metadata": {},
   "outputs": [
    {
     "data": {
      "text/plain": [
       "[1, 2, [3, 5], 4]"
      ]
     },
     "execution_count": 43,
     "metadata": {},
     "output_type": "execute_result"
    }
   ],
   "source": [
    "li3"
   ]
  },
  {
   "cell_type": "code",
   "execution_count": 44,
   "id": "da2f50df",
   "metadata": {},
   "outputs": [
    {
     "data": {
      "text/plain": [
       "[1, 2, [3, 5], 4]"
      ]
     },
     "execution_count": 44,
     "metadata": {},
     "output_type": "execute_result"
    }
   ],
   "source": [
    "li2"
   ]
  },
  {
   "cell_type": "code",
   "execution_count": null,
   "id": "6355d6dd",
   "metadata": {},
   "outputs": [],
   "source": []
  }
 ],
 "metadata": {
  "kernelspec": {
   "display_name": "Python 3 (ipykernel)",
   "language": "python",
   "name": "python3"
  },
  "language_info": {
   "codemirror_mode": {
    "name": "ipython",
    "version": 3
   },
   "file_extension": ".py",
   "mimetype": "text/x-python",
   "name": "python",
   "nbconvert_exporter": "python",
   "pygments_lexer": "ipython3",
   "version": "3.9.7"
  }
 },
 "nbformat": 4,
 "nbformat_minor": 5
}
